{
 "cells": [
  {
   "cell_type": "code",
   "execution_count": 1,
   "metadata": {},
   "outputs": [
    {
     "name": "stdout",
     "output_type": "stream",
     "text": [
      "8 documents\n",
      "[(['안녕하세요'], '여행'), (['기차표', '얼마', '에', '요', '?'], '여행'), (['어디', '까지', '가', '시', '는데요', '?'], '여행'), (['대전', '이', 'ㅂ니다', '.'], '여행'), (['2', '만', '5', '천', '원', '이', 'ㅂ니다', '.'], '여행'), (['또', '오', '시', '어요'], '여행'), (['수고', '하', '시', '어요'], '여행'), (['감사', '하', 'ㅂ니다', '.'], '여행')]\n",
      "\n",
      "['안녕하세요']\n",
      "['기차표', '얼마', '에', '요', '?']\n",
      "['어디', '까지', '가', '시', '는데요', '?']\n",
      "['대전', '이', 'ㅂ니다', '.']\n",
      "['2', '만', '5', '천', '원', '이', 'ㅂ니다', '.']\n",
      "['또', '오', '시', '어요']\n",
      "['수고', '하', '시', '어요']\n",
      "['감사', '하', 'ㅂ니다', '.']\n",
      "\n",
      "1 classes ['여행']\n",
      "25 unique stemmed words ['.', '2', '5', 'ㅂ니다', '가', '감사', '기차표', '까지', '는데요', '대전', '또', '만', '수고', '시', '안녕하세요', '어디', '어요', '얼마', '에', '오', '요', '원', '이', '천', '하']\n"
     ]
    }
   ],
   "source": [
    "# things we need for NLP\n",
    "# import nltk\n",
    "# from nltk.stem.lancaster import LancasterStemmer\n",
    "# stemmer = LancasterStemmer()\n",
    "\n",
    "from konlpy.tag import Komoran\n",
    "from konlpy.tag import Twitter\n",
    "komoran = Komoran()\n",
    "twitter = Twitter()\n",
    "\n",
    "sentences = [\"안녕하세요\", \"기차표 얼마에요?\",\"어디까지 가시는데요?\",\"대전입니다.\",\"2만5천원입니다.\",\"또 오세요\",\"수고하세요\",\"감사합니다.\"]\n",
    "words = []\n",
    "classes = []\n",
    "documents = []\n",
    "ignore_words = ['?']\n",
    "# loop through each sentence in our intents patterns\n",
    "for sentence in sentences:\n",
    "    # tokenize each word in the sentence\n",
    "    w = komoran.morphs(sentence)\n",
    "    # add to our words list\n",
    "    words.extend(w)\n",
    "    # add to documents in our corpus\n",
    "    documents.append((w, \"여행\"))\n",
    "    # add to our classes list\n",
    "    classes.append(\"여행\")\n",
    "\n",
    "# stem and lower each word and remove duplicates\n",
    "words = [w for w in words if w not in ignore_words]\n",
    "words = sorted(list(set(words)))\n",
    "\n",
    "# remove duplicates\n",
    "classes = sorted(list(set(classes)))\n",
    "\n",
    "print (len(documents), \"documents\")\n",
    "print(documents)\n",
    "print()\n",
    "for doc in documents:\n",
    "    print(doc[0])\n",
    "print()\n",
    "print (len(classes), \"classes\", classes)\n",
    "print (len(words), \"unique stemmed words\", words)"
   ]
  },
  {
   "cell_type": "code",
   "execution_count": 3,
   "metadata": {},
   "outputs": [
    {
     "name": "stdout",
     "output_type": "stream",
     "text": [
      "['원칙', '이나', '기체', '설계', '와', '엔진', '·', '레이더', '·', '항법', '장비', '등', '이것', '도', '되나욬ㅋㅋ']\n",
      "['원칙', '기체', '설계', '엔진', '레이더', '항법', '장비', '등']\n",
      "[('원칙', 'NNG'), ('이나', 'JC'), ('기체', 'NNG'), ('설계', 'NNG'), ('와', 'JC'), ('엔진', 'NNG'), ('·', 'SP'), ('레이더', 'NNG'), ('·', 'SP'), ('항법', 'NNP'), ('장비', 'NNG'), ('등', 'NNB'), ('이것', 'NP'), ('도', 'JX'), ('되나욬ㅋㅋ', 'NA')]\n"
     ]
    }
   ],
   "source": [
    "# from konlpy.tag import Komoran\n",
    "# komoran = Komoran()\n",
    "print(komoran.morphs('원칙이나 기체 설계와 엔진·레이더·항법장비 등 이것도 되나욬ㅋㅋ'))\n",
    "print(komoran.nouns('원칙이나 기체 설계와 엔진·레이더·항법장비 등 이것도 되나욬ㅋㅋ!'))\n",
    "print(komoran.pos('원칙이나 기체 설계와 엔진·레이더·항법장비 등 이것도 되나욬ㅋㅋ'))"
   ]
  },
  {
   "cell_type": "code",
   "execution_count": 6,
   "metadata": {},
   "outputs": [
    {
     "name": "stdout",
     "output_type": "stream",
     "text": [
      "['원칙', '이나', '기체', '설계', '와', '엔진', '·', '레이더', '·', '항법', '장비', '등', '이', '것', '도', '되나욬', 'ㅋㅋ']\n",
      "['원칙', '기체', '설계', '엔진', '레이더', '항법', '장비', '등', '것', '되나욬']\n",
      "['원칙', '기체 설계', '기체 설계와 엔진', '설계와 엔진', '엔진', '레이더', '항법장비 등 이것', '등 이것', '기체', '설계', '항법', '장비', '이것']\n",
      "[('원칙', 'Noun'), ('이나', 'Josa'), ('기체', 'Noun'), ('설계', 'Noun'), ('와', 'Josa'), ('엔진', 'Noun'), ('·', 'Foreign'), ('레이더', 'Noun'), ('·', 'Foreign'), ('항법', 'Noun'), ('장비', 'Noun'), ('등', 'Noun'), ('이', 'Determiner'), ('것', 'Noun'), ('도', 'Josa'), ('되나욬', 'Noun'), ('ㅋㅋ', 'KoreanParticle')]\n",
      "[('원칙', 'Noun'), ('이나', 'Josa'), ('기체', 'Noun'), ('설계', 'Noun'), ('와', 'Josa'), ('엔진', 'Noun'), ('·', 'Foreign'), ('레이더', 'Noun'), ('·', 'Foreign'), ('항법', 'Noun'), ('장비', 'Noun'), ('등', 'Noun'), ('이', 'Determiner'), ('것', 'Noun'), ('도', 'Josa'), ('되', 'Verb'), ('나요', 'Eomi'), ('ㅋㅋ', 'KoreanParticle')]\n",
      "[('원칙', 'Noun'), ('이나', 'Josa'), ('기체', 'Noun'), ('설계', 'Noun'), ('와', 'Josa'), ('엔진', 'Noun'), ('·', 'Foreign'), ('레이더', 'Noun'), ('·', 'Foreign'), ('항법', 'Noun'), ('장비', 'Noun'), ('등', 'Noun'), ('이', 'Determiner'), ('것', 'Noun'), ('도', 'Josa'), ('되다', 'Verb'), ('ㅋㅋ', 'KoreanParticle')]\n"
     ]
    }
   ],
   "source": [
    "print(twitter.morphs('원칙이나 기체 설계와 엔진·레이더·항법장비 등 이것도 되나욬ㅋㅋ'))\n",
    "print(twitter.nouns('원칙이나 기체 설계와 엔진·레이더·항법장비 등 이것도 되나욬ㅋㅋ'))\n",
    "print(twitter.phrases('원칙이나 기체 설계와 엔진·레이더·항법장비 등 이것도 되나욬ㅋㅋ'))\n",
    "print(twitter.pos('원칙이나 기체 설계와 엔진·레이더·항법장비 등 이것도 되나욬ㅋㅋ'))\n",
    "print(twitter.pos('원칙이나 기체 설계와 엔진·레이더·항법장비 등 이것도 되나욬ㅋㅋ', norm=True))\n",
    "print(twitter.pos('원칙이나 기체 설계와 엔진·레이더·항법장비 등 이것도 되나욬ㅋㅋ', norm=True, stem=True))\n",
    "sentences = [\"안녕하세요\", \"기차표 얼마에요?\",\"어디까지 가시는데요?\",\"대전입니다.\",\"2만5천원입니다.\",\"또 오세요\",\"수고하세요\",\"감사합니다.\"]\n"
   ]
  },
  {
   "cell_type": "code",
   "execution_count": 9,
   "metadata": {},
   "outputs": [
    {
     "name": "stdout",
     "output_type": "stream",
     "text": [
      "18 unique stemmed words ['2', '5', '갈다', '감사', '기차표', '까지', '대전', '또', '만', '수고', '안녕하다', '어디', '얼마', '에요', '오다', '이다', '천원', '하다']\n"
     ]
    }
   ],
   "source": [
    "sentences = [\"안녕하세요\", \"기차표 얼마에요?\",\"어디까지 가시는데요?\",\"대전입니다.\",\"2만5천원입니다.\",\"또 오세요\",\"수고하세요\",\"감사합니다.\"]\n",
    "words = []\n",
    "ignore_words = ['?','.']\n",
    "for sentence in sentences:\n",
    "    # tokenize each word in the sentence\n",
    "    pos_result = twitter.pos(sentence, norm=True, stem=True)\n",
    "    w = [lex for lex, pos in pos_result]\n",
    "    words.extend(w)\n",
    "\n",
    "# stem and lower each word and remove duplicates\n",
    "words = [w for w in words if w not in ignore_words]\n",
    "words = sorted(list(set(words)))\n",
    "print (len(words), \"unique stemmed words\", words)"
   ]
  },
  {
   "cell_type": "code",
   "execution_count": 39,
   "metadata": {},
   "outputs": [
    {
     "name": "stdout",
     "output_type": "stream",
     "text": [
      "[{'context_set': '', 'patterns': ['안녕', '안녕하세요', '잘 지냈어요?', '여기요', '잘 계셨어요?', '거기 누구 있어요?', '계세요', '계셔요', '좋은 날 입니다'], 'tag': '인사', 'responses': ['안녕하세요, 방문해 주셔서 감사합니다.', '다시 만나서 반가워요.', '만나서 반갑습니다', '찾아 주셔서 감사합니다', '안녕하세요, 어떻게 도와 드릴까요?']}, {'patterns': ['안녕히 계셔요.', '그럼 나중에 또 들릴께요', '나중에요', '다음에', '다음번에', '장사 잘 하세요', '돈 많이 버세요', '수고하세요', '친절한 서비스에 감사합니다.'], 'tag': '작별인사', 'responses': ['나중에 또 오세요, 방문해 주셔서 감사합니다.', '좋은 하루 되세요.', '안녕히 가세요', '감사합니다.', '고맙습니다', '즐거운 시간 되세요']}, {'patterns': ['감사', '감사합니다', '고맙습니다', '좋은 서비스 감사합니다'], 'tag': '감사', 'responses': ['도움이 되서 다행입니다.', '당연히 할 일을 한건데요 뭐..', '저도 고맙습니다.', '감사합니다']}, {'patterns': ['몇시에 업무 시작하나요?', '몇시까지 하나요?', '영업 시간이 어떻게 되요?', '가게문 언제 여나요?'], 'tag': '영업시간', 'responses': ['매일 오전 9 시부 터 오후 9 시까 지 영업합니다.', '매일 오전 9 시부 터 오후 9 시까 지입니다.']}, {'patterns': ['어떤 오토바이가있어요?', '무슨 종류의 오토바이가 있습니까?', '어떤 오토바이를 빌릴 수 있나요?'], 'tag': '오토바이', 'responses': ['우리는 Yamaha, Piaggio와 Vespa 오토바이를 임대합니다.', '우리는 Piaggio, Vespa와 Yamaha 오토바이를 가지고 있습니다.']}, {'patterns': ['신용 카드로 결재 되나요?', '마스터 또는 비자 카드를 받나요?', '현금만 가능한가요 아니면 카드도 되나요?'], 'tag': '지불조건', 'responses': ['VISA, Mastercard 및 AMEX가 결재 가능 합니다.', '우리는 대부분의 주요 신용 카드를받습니다.']}, {'patterns': ['오늘 가게 여나요?', '오늘 몇시에 영업시작 하나요?', '오늘 업무 시간이 어떻게 되요?'], 'tag': '오늘영업', 'responses': ['우리는 매일 오전 9 시부 터 오후 9 시까 지 영업합니다.', '업무 시간은 매일 오전 9 시부 터 오후 9 시까 지입니다.']}, {'context_set': 'rentalday', 'patterns': ['임대 되나요?', '렌트 할 수 있나요?', '오토바이를 빌릴 수 있습니까?', '오토바이를 빌리고 싶은 데요.', '오토바이를 빌리려고 하는데 어떻게 해야 하나요?'], 'tag': '대여', 'responses': ['언제 렌트하려고 하는데요, 오늘  또는 이번 주 중에 임대 할 계획입니까?']}, {'context_filter': 'rentalday', 'patterns': ['오늘', '당일', '지금', '바로'], 'tag': '오늘', 'responses': ['오늘 렌탈을 원하시면 010-800-8282로 전화하십시오.', '당일 렌탈은 010-800-8282로 전화하십시오.']}]\n"
     ]
    }
   ],
   "source": [
    "import sys, json\n",
    "\n",
    "with open('test1.json') as json_data:\n",
    "        intents = json.load(json_data)\n",
    "\n",
    "print(intents['intents'])\n"
   ]
  },
  {
   "cell_type": "code",
   "execution_count": null,
   "metadata": {},
   "outputs": [],
   "source": []
  },
  {
   "cell_type": "code",
   "execution_count": null,
   "metadata": {},
   "outputs": [],
   "source": []
  }
 ],
 "metadata": {
  "kernelspec": {
   "display_name": "Python 3",
   "language": "python",
   "name": "python3"
  },
  "language_info": {
   "codemirror_mode": {
    "name": "ipython",
    "version": 3
   },
   "file_extension": ".py",
   "mimetype": "text/x-python",
   "name": "python",
   "nbconvert_exporter": "python",
   "pygments_lexer": "ipython3",
   "version": "3.6.5"
  }
 },
 "nbformat": 4,
 "nbformat_minor": 2
}
