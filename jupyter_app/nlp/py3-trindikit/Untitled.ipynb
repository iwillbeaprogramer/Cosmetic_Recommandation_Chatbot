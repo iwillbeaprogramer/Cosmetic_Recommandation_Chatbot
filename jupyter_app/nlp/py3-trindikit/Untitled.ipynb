{
 "cells": [
  {
   "cell_type": "code",
   "execution_count": 13,
   "metadata": {},
   "outputs": [
    {
     "name": "stdout",
     "output_type": "stream",
     "text": [
      "철수 : 90\n",
      "민수 : 85\n",
      "영희 : 80\n",
      "\n",
      "철수\n",
      "\n",
      "민수\n",
      "85\n",
      "\n",
      "영희\n"
     ]
    }
   ],
   "source": [
    "scores = {\"철수\": 90, \"민수\": 85, \"영희\": 80}\n",
    " \n",
    "for key in scores:\n",
    "    val = scores[key]\n",
    "    print(\"%s : %d\" % (key, val))\n",
    "    \n",
    "# print(type(scores))\n",
    "\n",
    "# 멤버쉽연산자 in 사용\n",
    "key1 = \"민수\"\n",
    "# for key in scores:\n",
    "#     print()\n",
    "#     print(key)\n",
    "#     if key == key1:\n",
    "#         print(scores[key1])\n"
   ]
  },
  {
   "cell_type": "code",
   "execution_count": 14,
   "metadata": {},
   "outputs": [
    {
     "name": "stdout",
     "output_type": "stream",
     "text": [
      "\n",
      "민수\n",
      "85\n"
     ]
    }
   ],
   "source": [
    "if key1 in scores:\n",
    "    print()\n",
    "    print(key1)\n",
    "    print(scores[key1])\n"
   ]
  },
  {
   "cell_type": "code",
   "execution_count": null,
   "metadata": {
    "collapsed": true
   },
   "outputs": [],
   "source": []
  },
  {
   "cell_type": "code",
   "execution_count": null,
   "metadata": {
    "collapsed": true
   },
   "outputs": [],
   "source": []
  }
 ],
 "metadata": {
  "kernelspec": {
   "display_name": "Python 3",
   "language": "python",
   "name": "python3"
  },
  "language_info": {
   "codemirror_mode": {
    "name": "ipython",
    "version": 3
   },
   "file_extension": ".py",
   "mimetype": "text/x-python",
   "name": "python",
   "nbconvert_exporter": "python",
   "pygments_lexer": "ipython3",
   "version": "3.6.3"
  }
 },
 "nbformat": 4,
 "nbformat_minor": 2
}
