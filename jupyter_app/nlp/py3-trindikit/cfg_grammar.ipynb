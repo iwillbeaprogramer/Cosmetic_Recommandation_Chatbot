{
 "cells": [
  {
   "cell_type": "code",
   "execution_count": null,
   "metadata": {
    "collapsed": true
   },
   "outputs": [],
   "source": [
    "# -*- encoding: utf-8 -*-\n",
    "\n",
    "#\n",
    "# cfg_grammar.py\n",
    "# Copyright (C) 2009, Alexander Berman. All rights reserved.\n",
    "#\n",
    "\n",
    "# This program is free software: you can redistribute it and/or modify\n",
    "# it under the terms of the GNU Lesser General Public License as published \n",
    "# by the Free Software Foundation, either version 3 of the License, or\n",
    "# (at your option) any later version.\n",
    "\n",
    "# This program is distributed in the hope that it will be useful,\n",
    "# but WITHOUT ANY WARRANTY; without even the implied warranty of\n",
    "# MERCHANTABILITY or FITNESS FOR A PARTICULAR PURPOSE.  See the\n",
    "# GNU General Public License for more details.\n",
    "\n",
    "# You should have received a copy of the GNU General Public License\n",
    "# and the GNU Lesser General Public License along with this program.  \n",
    "# If not, see <http://www.gnu.org/licenses/>.\n",
    "\n",
    "from ibis import *\n",
    "from nltk import *\n",
    "\n",
    "######################################################################\n",
    "# CFG grammar based on NLTK\n",
    "######################################################################\n",
    "\n",
    "class CFG_Grammar(Grammar):\n",
    "    \"\"\"CFG parser based on NLTK.\"\"\"\n",
    "    \n",
    "    def loadGrammar(self, grammarFilename):\n",
    "        self.parser = parse.load_parser(grammarFilename, trace=1, cache=False)\n",
    "\n",
    "    def interpret(self, input):\n",
    "        \"\"\"Parse an input string into a dialogue move or a set of moves.\"\"\"\n",
    "        try: return self.parseString(input)\n",
    "        except: pass\n",
    "        try: return eval(input)\n",
    "        except: pass\n",
    "        return set([])\n",
    "\n",
    "    def parseString(self, input):\n",
    "        tokens = input.split()\n",
    "        trees = self.parser.nbest_parse(tokens)\n",
    "        sem = trees[0].node['sem']\n",
    "        return self.sem2move(sem)\n",
    "\n",
    "    def sem2move(self, sem):\n",
    "        try: return Answer(sem['Answer'])\n",
    "        except: pass\n",
    "        try:\n",
    "            ans = sem['Answer']\n",
    "            pred = ans['pred']\n",
    "            ind = ans['ind']\n",
    "            #return Answer(Prop((Pred1(pred, Ind(ind), True))))\n",
    "            return Answer(pred+\"(\"+ind+\")\")\n",
    "        except: pass\n",
    "        try: return Ask(WhQ(Pred1(sem['Ask'])))\n",
    "        except: pass\n",
    "        return None\n",
    "\n"
   ]
  }
 ],
 "metadata": {
  "kernelspec": {
   "display_name": "Python 3",
   "language": "python",
   "name": "python3"
  },
  "language_info": {
   "codemirror_mode": {
    "name": "ipython",
    "version": 3
   },
   "file_extension": ".py",
   "mimetype": "text/x-python",
   "name": "python",
   "nbconvert_exporter": "python",
   "pygments_lexer": "ipython3",
   "version": "3.5.4"
  }
 },
 "nbformat": 4,
 "nbformat_minor": 2
}
