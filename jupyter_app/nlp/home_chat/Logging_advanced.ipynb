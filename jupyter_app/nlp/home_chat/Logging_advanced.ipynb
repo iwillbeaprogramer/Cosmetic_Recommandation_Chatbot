{
 "cells": [
  {
   "cell_type": "code",
   "execution_count": 2,
   "metadata": {},
   "outputs": [
    {
     "name": "stderr",
     "output_type": "stream",
     "text": [
      "2018-03-10 22:28:12,607 - [<ipython-input-2-4f3c3083b0ba>|<module>|INFO|<ipython-input-2-4f3c3083b0ba>:31] : TEST START\n",
      "2018-03-10 22:28:12,607 - [<ipython-input-2-4f3c3083b0ba>|<module>|INFO|<ipython-input-2-4f3c3083b0ba>:31] : TEST START\n",
      "2018-03-10 22:28:12,610 - [<ipython-input-2-4f3c3083b0ba>|<module>|WARNING|<ipython-input-2-4f3c3083b0ba>:32] : 스트림으로 로그가 남아요~\n",
      "2018-03-10 22:28:12,610 - [<ipython-input-2-4f3c3083b0ba>|<module>|WARNING|<ipython-input-2-4f3c3083b0ba>:32] : 스트림으로 로그가 남아요~\n",
      "2018-03-10 22:28:12,613 - [<ipython-input-2-4f3c3083b0ba>|<module>|ERROR|<ipython-input-2-4f3c3083b0ba>:33] : 파일로도 남으니 안심이죠~!\n",
      "2018-03-10 22:28:12,613 - [<ipython-input-2-4f3c3083b0ba>|<module>|ERROR|<ipython-input-2-4f3c3083b0ba>:33] : 파일로도 남으니 안심이죠~!\n",
      "2018-03-10 22:28:12,616 - [<ipython-input-2-4f3c3083b0ba>|<module>|CRITICAL|<ipython-input-2-4f3c3083b0ba>:34] : 치명적인 버그는 꼭 파일로 남기기도 하고 메일로 발송하세요!\n",
      "2018-03-10 22:28:12,616 - [<ipython-input-2-4f3c3083b0ba>|<module>|CRITICAL|<ipython-input-2-4f3c3083b0ba>:34] : 치명적인 버그는 꼭 파일로 남기기도 하고 메일로 발송하세요!\n",
      "2018-03-10 22:28:12,621 - [<ipython-input-2-4f3c3083b0ba>|<module>|INFO|<ipython-input-2-4f3c3083b0ba>:35] : TEST END!\n",
      "2018-03-10 22:28:12,621 - [<ipython-input-2-4f3c3083b0ba>|<module>|INFO|<ipython-input-2-4f3c3083b0ba>:35] : TEST END!\n"
     ]
    }
   ],
   "source": [
    "import os\n",
    "import logging\n",
    "import logging.handlers\n",
    "\n",
    "# 로거 인스턴스를 만든다\n",
    "logger = logging.getLogger('mylogger')\n",
    "\n",
    "# 포매터를 만든다\n",
    "fomatter = logging.Formatter('%(asctime)s - [%(module)s|%(funcName)s|%(levelname)s|%(filename)s:%(lineno)s] : %(message)s')\n",
    "\n",
    "# 스트림과 파일로 로그를 출력하는 핸들러를 각각 만든다.\n",
    "fileHandler = logging.FileHandler('./myLoggerTest.log')\n",
    "streamHandler = logging.StreamHandler()\n",
    "\n",
    "# 파일 용량이 100MB를 넘어가면 10개까지 로그를 남기고 싶을때 fileHandler를 이렇게 셋팅해주면 된다\n",
    "'''\n",
    "fileMaxByte = 1024 * 1024 * 100 #100MB\n",
    "fileHandler = logging.handlers.RotatingFileHandler('./myLoggerTest.log', maxBytes=fileMaxByte, backupCount=10)\n",
    "'''\n",
    "\n",
    "# 각 핸들러에 포매터를 지정한다.\n",
    "fileHandler.setFormatter(fomatter)\n",
    "streamHandler.setFormatter(fomatter)\n",
    "\n",
    "# 로거 인스턴스에 스트림 핸들러와 파일핸들러를 붙인다.\n",
    "# 이 예제는 여러가지의 파일핸들을 logger에 붙여서 로그를 여러군데에 남기는 예제이다.\n",
    "logger.addHandler(fileHandler)\n",
    "logger.addHandler(streamHandler)\n",
    "\n",
    "# 로거 인스턴스로 로그를 찍는다.\n",
    "logger.setLevel(logging.DEBUG)\n",
    "logger.info(\"TEST START\")\n",
    "logger.warning(\"스트림으로 로그가 남아요~\")\n",
    "logger.error(\"파일로도 남으니 안심이죠~!\")\n",
    "logger.critical(\"치명적인 버그는 꼭 파일로 남기기도 하고 메일로 발송하세요!\")\n",
    "logger.info(\"TEST END!\")"
   ]
  },
  {
   "cell_type": "code",
   "execution_count": null,
   "metadata": {
    "collapsed": true
   },
   "outputs": [],
   "source": []
  }
 ],
 "metadata": {
  "kernelspec": {
   "display_name": "Python 3",
   "language": "python",
   "name": "python3"
  },
  "language_info": {
   "codemirror_mode": {
    "name": "ipython",
    "version": 3
   },
   "file_extension": ".py",
   "mimetype": "text/x-python",
   "name": "python",
   "nbconvert_exporter": "python",
   "pygments_lexer": "ipython3",
   "version": "3.6.2"
  }
 },
 "nbformat": 4,
 "nbformat_minor": 2
}
